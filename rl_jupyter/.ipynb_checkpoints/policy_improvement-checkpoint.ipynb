{
 "cells": [
  {
   "cell_type": "code",
   "execution_count": 1,
   "metadata": {
    "collapsed": true
   },
   "outputs": [],
   "source": [
    "\"\"\"\n",
    "# Author:    Yang Du\n",
    "# Email:     iamduyang (-A-T-) outlook dot com \n",
    "# Date:      2017-08-09\n",
    "# Purpose:\n",
    "   policy improvement algorithm in reinforcement learning\n",
    "#------------------------------------------------------------#\n",
    "# Copyright (C) 2017       Yang DU\n",
    "# This code is freely available for non-commercial purposes\n",
    "#------------------------------------------------------------#\n",
    "\"\"\"\n",
    "\n",
    "import numpy as np"
   ]
  },
  {
   "cell_type": "code",
   "execution_count": 2,
   "metadata": {
    "collapsed": false
   },
   "outputs": [],
   "source": [
    "\"\"\"\n",
    "State: low-water 0, health 1, Overflow 2, death 3:\n",
    "\"\"\"\n",
    "state_array = [0,1,2,3]\n",
    "T = 10000000\n",
    "T2 = 1000\n",
    "theta = 0.000000001\n",
    "action_array =[0,1]\n",
    "gamma =0.1"
   ]
  },
  {
   "cell_type": "code",
   "execution_count": 3,
   "metadata": {
    "collapsed": false
   },
   "outputs": [],
   "source": [
    "def state_trans(action,probability):\n",
    "    return int(np.random.choice(action, p=probability))\n",
    "'''\n",
    "state, action -> state maybe not used again\n",
    "'''\n",
    "def state_action_state_map(state,action):\n",
    "    if state==3:\n",
    "        return 3\n",
    "    state_action_pair = str(state)+' '+str(action) \n",
    "    if state_action_pair=='0 1':\n",
    "        return int(np.random.choice([0,1], p=[0.5,0.5]))\n",
    "    elif state_action_pair=='0 0':\n",
    "        return int(np.random.choice([0,3], p=[0.4,0.6]))\n",
    "    elif state_action_pair=='1 1':\n",
    "        return int(np.random.choice([2,1], p=[0.4,0.6]))\n",
    "    elif state_action_pair=='1 0':\n",
    "        return int(np.random.choice([1,0], p=[0.4,0.6]))\n",
    "    elif state_action_pair=='2 1':\n",
    "        return int(np.random.choice([3,2], p=[0.4,0.6]))\n",
    "    elif state_action_pair=='2 0':\n",
    "        return int(np.random.choice([2,1], p=[0.4,0.6]))\n",
    "    \n",
    "    \n",
    "    return -1\n",
    "\n",
    "\n",
    "def state_action_probability(state,action):\n",
    "    \n",
    "    return 0.5\n",
    "\n",
    "def state_action_state_probability(state,action,next_state):\n",
    "    if state==3:\n",
    "        if next_state==3:\n",
    "            return 1\n",
    "        else:\n",
    "            return 0\n",
    "    state_action_pair = str(state)+' '+str(action)+' '+ str(next_state)\n",
    "    if state==0 and action==1:\n",
    "        return 0.5\n",
    "    \n",
    "    if state_action_pair=='0 0 0' or state_action_pair=='1 1 2' or state_action_pair =='1 0 1' or \\\n",
    "state_action_pair=='2 1 3' or  state_action_pair=='2 0 2':\n",
    "        return 0.4\n",
    "    elif state_action_pair=='0 0 1' or state_action_pair=='1 1 1' or  state_action_pair =='1 0 0' or \\\n",
    "state_action_pair=='2 1 2' or  state_action_pair=='2 0 1': \n",
    "        return 0.6\n",
    "\n",
    "    \n",
    "    \n",
    "    return 0\n",
    "\n",
    "\n",
    "def state_action_state_reward_map(state,action,next_state):\n",
    "    if state==3 or next_state==3:\n",
    "        return -100\n",
    "    if next_state==1:\n",
    "        return 1\n",
    "    \n",
    "    state_action_pair = str(state)+' '+str(action)+' '+str(next_state)\n",
    "    if state_action_pair=='1 1 2':\n",
    "        return 1\n",
    "    else:\n",
    "        return -1\n",
    "\n",
    "\n"
   ]
  },
  {
   "cell_type": "code",
   "execution_count": 4,
   "metadata": {
    "collapsed": false
   },
   "outputs": [],
   "source": [
    "'''\n",
    "not use gamma ,use time\n",
    "'''\n",
    "v_array = np.zeros(len(state_array))\n",
    "for x_time in range(1,T+1):\n",
    "    v_array_next = np.zeros(len(state_array))\n",
    "    bigLoopFalse =True\n",
    "    for now_state in state_array:\n",
    "        max_temp =np.finfo(np.float64).min\n",
    "        for action_now in action_array:\n",
    "            temp =0\n",
    "            for next_state in state_array:\n",
    "                temp = temp + state_action_state_probability(now_state,action_now,next_state)*1.0* \\\n",
    "                  ((1.0/x_time)*state_action_state_reward_map(now_state,action_now,next_state)+ \\\n",
    "                    (x_time-1)*v_array[next_state]/ x_time)\n",
    "\n",
    "            max_temp = max(temp,max_temp)\n",
    "            ### pi a\n",
    "        v_array_next[now_state] =max_temp\n",
    "        if abs(v_array[now_state]-v_array_next[now_state])>theta :\n",
    "            bigLoopFalse =False\n",
    "        \n",
    "        v_array[now_state]=v_array_next[now_state]\n",
    "        \n",
    "    if bigLoopFalse:\n",
    "        break\n",
    "\n",
    "\n",
    "Pi_array =[action_array[0]]*len(state_array)\n",
    "x_time =2\n",
    "for state_num in range(0,len(state_array)):\n",
    "    Q_max =0\n",
    "    for next_state in state_array:\n",
    "        Q_max = Q_max+state_action_state_probability(state_array[state_num],Pi_array[state_num],next_state)*1.0* \\\n",
    "                  ((1.0/x_time)*state_action_state_reward_map(state_array[state_num],Pi_array[state_num],next_state)+ \\\n",
    "                    (x_time-1)*v_array[next_state]/ x_time)\n",
    "    for action_now in action_array:\n",
    "        temp = 0\n",
    "        for next_state in state_array:\n",
    "            temp = temp+state_action_state_probability(state_array[state_num],action_now,next_state)*1.0* \\\n",
    "                  ((1.0/x_time)*state_action_state_reward_map(state_array[state_num],action_now,next_state)+ \\\n",
    "                    (x_time-1)*v_array[next_state]/ x_time)\n",
    "        if temp>Q_max:\n",
    "            Q_max = temp\n",
    "            Pi_array[state_num]=action_now\n",
    "\n",
    "        "
   ]
  },
  {
   "cell_type": "code",
   "execution_count": 5,
   "metadata": {
    "collapsed": false
   },
   "outputs": [
    {
     "name": "stdout",
     "output_type": "stream",
     "text": [
      "0\n",
      "1\n",
      "0\n",
      "0\n"
     ]
    }
   ],
   "source": [
    "for x in range(0,len(Pi_array)):\n",
    "    print(Pi_array[x])\n",
    "        \n"
   ]
  },
  {
   "cell_type": "code",
   "execution_count": 9,
   "metadata": {
    "collapsed": false
   },
   "outputs": [],
   "source": [
    "'''\n",
    "use gamma\n",
    "'''\n",
    "v_array = np.zeros(len(state_array))\n",
    "show_x_time = 0\n",
    "for x_time in range(1,T+1):\n",
    "    show_x_time = x_time\n",
    "    v_array_next = np.zeros(len(state_array))\n",
    "    bigLoopFalse =True\n",
    "    for now_state in state_array:\n",
    "        max_temp =np.finfo(np.float64).min\n",
    "        for action_now in action_array:\n",
    "            temp =0\n",
    "            for next_state in state_array:\n",
    "                temp = temp + state_action_state_probability(now_state,action_now,next_state)*1.0* \\\n",
    "                  (state_action_state_reward_map(now_state,action_now,next_state)+ \\\n",
    "                    gamma*v_array[next_state])\n",
    "\n",
    "            max_temp = max(temp,max_temp)\n",
    "            ### pi a\n",
    "        v_array_next[now_state] =max_temp\n",
    "        if abs(v_array[now_state]-v_array_next[now_state])>theta :\n",
    "            bigLoopFalse =False\n",
    "        \n",
    "        v_array[now_state]=v_array_next[now_state]\n",
    "        \n",
    "    if bigLoopFalse:\n",
    "        break\n",
    "\n",
    "Pi_array =[action_array[0]]*len(state_array)\n",
    "x_time =2\n",
    "for state_num in range(0,len(state_array)):\n",
    "    Q_max =0\n",
    "    for next_state in state_array:\n",
    "        Q_max = Q_max+state_action_state_probability(state_array[state_num],Pi_array[state_num],next_state)*1.0* \\\n",
    "                  (state_action_state_reward_map(state_array[state_num],Pi_array[state_num],next_state)+ \\\n",
    "                    gamma*v_array[next_state])\n",
    "    for action_now in action_array:\n",
    "        temp = 0\n",
    "        for next_state in state_array:\n",
    "            temp = temp+state_action_state_probability(state_array[state_num],Pi_array[state_num],next_state)*1.0* \\\n",
    "                  (state_action_state_reward_map(state_array[state_num],Pi_array[state_num],next_state)+ \\\n",
    "                    gamma*v_array[next_state])\n",
    "        if temp>Q_max:\n",
    "            Q_max = temp\n",
    "            Pi_array[state_num]=action_now        "
   ]
  },
  {
   "cell_type": "code",
   "execution_count": 7,
   "metadata": {
    "collapsed": false
   },
   "outputs": [
    {
     "name": "stdout",
     "output_type": "stream",
     "text": [
      "0\n",
      "0\n",
      "0\n",
      "0\n"
     ]
    }
   ],
   "source": [
    "for x in range(0,len(Pi_array)):\n",
    "    print(Pi_array[x])"
   ]
  },
  {
   "cell_type": "code",
   "execution_count": 7,
   "metadata": {
    "collapsed": false
   },
   "outputs": [
    {
     "data": {
      "text/plain": [
       "\"\\nfor result_now in result_list:\\n    print('gamma: %f'%result_now[0])\\n    print('v1: %f v2: %f v3: %f v4: %f'%(result_now[1],result_now[2],result_now[3],result_now[4]))\\n    print('time run: %d'%result_now[5])\\n\""
      ]
     },
     "execution_count": 7,
     "metadata": {},
     "output_type": "execute_result"
    }
   ],
   "source": [
    "'''\n",
    "tune gamma\n",
    "'''\n",
    "gammma_list = range(1,51)\n",
    "result_list=[]\n",
    "for gamma_temp in gammma_list:\n",
    "    gamma = gamma_temp*0.01\n",
    "    v_array = np.zeros(len(state_array))\n",
    "    show_x_time = 0\n",
    "    for x_time in range(1,T+1):\n",
    "        show_x_time = x_time\n",
    "        v_array_next = np.zeros(len(state_array))\n",
    "        bigLoopFalse =True\n",
    "        for now_state in state_array:\n",
    "            max_temp =np.finfo(np.float64).min\n",
    "            for action_now in action_array:\n",
    "                temp =0\n",
    "                for next_state in state_array:\n",
    "                    temp = temp + state_action_state_probability(now_state,action_now,next_state)*1.0* \\\n",
    "                      (state_action_state_reward_map(now_state,action_now,next_state)+ \\\n",
    "                        gamma*v_array[next_state])\n",
    "\n",
    "                max_temp = max(temp,max_temp)\n",
    "                ### pi a\n",
    "            v_array_next[now_state] =max_temp\n",
    "            if abs(v_array[now_state]-v_array_next[now_state])>theta :\n",
    "                bigLoopFalse =False\n",
    "\n",
    "            v_array[now_state]=v_array_next[now_state]\n",
    "\n",
    "        if bigLoopFalse:\n",
    "            break\n",
    "    result_now = [gamma]\n",
    "    for x in v_array:\n",
    "        result_now.append(x)\n",
    "    result_now.append(show_x_time)\n",
    "    result_list.append(result_now)\n",
    "\n",
    "for result_now in result_list:\n",
    "    print('gamma: %f'%result_now[0])\n",
    "    print('v1: %f v2: %f v3: %f v4: %f'%(result_now[1],result_now[2],result_now[3],result_now[4]))\n",
    "    print('time run: %d'%result_now[5])\n",
    "\n",
    "        "
   ]
  },
  {
   "cell_type": "code",
   "execution_count": null,
   "metadata": {
    "collapsed": true
   },
   "outputs": [],
   "source": []
  }
 ],
 "metadata": {
  "kernelspec": {
   "display_name": "Python 3",
   "language": "python",
   "name": "python3"
  },
  "language_info": {
   "codemirror_mode": {
    "name": "ipython",
    "version": 3
   },
   "file_extension": ".py",
   "mimetype": "text/x-python",
   "name": "python",
   "nbconvert_exporter": "python",
   "pygments_lexer": "ipython3",
   "version": "3.6.0"
  }
 },
 "nbformat": 4,
 "nbformat_minor": 2
}
