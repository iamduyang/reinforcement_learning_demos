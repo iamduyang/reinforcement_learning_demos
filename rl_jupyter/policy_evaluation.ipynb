{
 "cells": [
  {
   "cell_type": "code",
   "execution_count": 1,
   "metadata": {
    "collapsed": true
   },
   "outputs": [],
   "source": [
    "\"\"\"\n",
    "# Author:    Yang Du\n",
    "# Email:     iamduyang (-A-T-) outlook dot com \n",
    "# Date:      2017-08-08\n",
    "# Purpose:\n",
    "   policy evaluation algorithm in reinforcement learning\n",
    "#------------------------------------------------------------#\n",
    "# Copyright (C) 2017       Yang DU\n",
    "# This code is freely available for non-commercial purposes\n",
    "#------------------------------------------------------------#\n",
    "\"\"\"\n",
    "import numpy"
   ]
  },
  {
   "cell_type": "code",
   "execution_count": 2,
   "metadata": {
    "collapsed": false
   },
   "outputs": [],
   "source": [
    "\"\"\"\n",
    "State: low-water 0, health 1, Overflow 2, death 3:\n",
    "\"\"\"\n",
    "state_array = [0,1,2,3]\n",
    "T = 1000000\n",
    "T2 = 1000\n",
    "\n",
    "action_array =[0,1]"
   ]
  },
  {
   "cell_type": "code",
   "execution_count": 3,
   "metadata": {
    "collapsed": false
   },
   "outputs": [
    {
     "name": "stdout",
     "output_type": "stream",
     "text": [
      "3\n"
     ]
    }
   ],
   "source": [
    "def state_trans(action,probability):\n",
    "    return int(numpy.random.choice(action, p=probability))\n",
    "'''\n",
    "state, action -> state maybe not used again\n",
    "'''\n",
    "def state_action_state_map(state,action):\n",
    "    if state==3:\n",
    "        return 3\n",
    "    state_action_pair = str(state)+' '+str(action) \n",
    "    if state_action_pair=='0 1':\n",
    "        return int(numpy.random.choice([0,1], p=[0.5,0.5]))\n",
    "    elif state_action_pair=='0 0':\n",
    "        return int(numpy.random.choice([0,3], p=[0.4,0.6]))\n",
    "    elif state_action_pair=='1 1':\n",
    "        return int(numpy.random.choice([2,1], p=[0.4,0.6]))\n",
    "    elif state_action_pair=='1 0':\n",
    "        return int(numpy.random.choice([1,0], p=[0.4,0.6]))\n",
    "    elif state_action_pair=='2 1':\n",
    "        return int(numpy.random.choice([3,2], p=[0.4,0.6]))\n",
    "    elif state_action_pair=='2 0':\n",
    "        return int(numpy.random.choice([2,1], p=[0.4,0.6]))\n",
    "    \n",
    "    \n",
    "    return -1\n",
    "\n",
    "\n",
    "def state_action_probability(state,action):\n",
    "    \n",
    "    return 0.5\n",
    "\n",
    "def state_action_state_probability(state,action,next_state):\n",
    "    if state==3:\n",
    "        if next_state==3:\n",
    "            return 1\n",
    "        else:\n",
    "            return 0\n",
    "    state_action_pair = str(state)+' '+str(action)+' '+ str(next_state)\n",
    "    if state==0 and action==1:\n",
    "        return 0.5\n",
    "    \n",
    "    if state_action_pair=='0 0 0' or state_action_pair=='1 1 2' or state_action_pair =='1 0 1' or \\\n",
    "state_action_pair=='2 1 3' or  state_action_pair=='2 0 2':\n",
    "        return 0.4\n",
    "    elif state_action_pair=='0 0 1' or state_action_pair=='1 1 1' or  state_action_pair =='1 0 0' or \\\n",
    "state_action_pair=='2 1 2' or  state_action_pair=='2 0 1': \n",
    "        return 0.6\n",
    "\n",
    "    \n",
    "    \n",
    "    return 0\n",
    "\n",
    "\n",
    "def state_action_state_reward_map(state,action,next_state):\n",
    "    if state==3 or next_state==3:\n",
    "        return -100\n",
    "    if next_state==1:\n",
    "        return 1\n",
    "    \n",
    "    state_action_pair = str(state)+' '+str(action)+' '+str(next_state)\n",
    "    if state_action_pair=='1 1 2':\n",
    "        return 1\n",
    "    else:\n",
    "        return -1\n",
    "\n",
    "print(state_action_state_map(2,1))\n",
    "\n"
   ]
  },
  {
   "cell_type": "code",
   "execution_count": 4,
   "metadata": {
    "collapsed": false
   },
   "outputs": [],
   "source": [
    "v_array = numpy.zeros(len(state_array))\n",
    "for x_time in range(1,T+1):\n",
    "    v_array_next = numpy.zeros(len(state_array))\n",
    "    for now_state in state_array:\n",
    "        for action_now in action_array:\n",
    "            temp =0\n",
    "            for next_state in state_array:\n",
    "                temp = temp + state_action_state_probability(now_state,action_now,next_state)*1.0* \\\n",
    "                  ((1.0/x_time)*state_action_state_reward_map(now_state,action_now,next_state)+ \\\n",
    "                    (x_time-1)*v_array[next_state]/ x_time)\n",
    "                \n",
    "            v_array_next[now_state] = v_array_next[now_state] +temp*state_action_probability(now_state,action_now)\n",
    "            ### pi a\n",
    "           \n",
    "        v_array=v_array_next\n",
    "        \n",
    "    #break"
   ]
  },
  {
   "cell_type": "code",
   "execution_count": 5,
   "metadata": {
    "collapsed": false
   },
   "outputs": [
    {
     "name": "stdout",
     "output_type": "stream",
     "text": [
      "-0.000205741138614\n",
      "-7.98689452737e-05\n",
      "-5.13188503497e-05\n",
      "-0.000124999975\n"
     ]
    }
   ],
   "source": [
    "for x in v_array:\n",
    "    print(x)"
   ]
  },
  {
   "cell_type": "code",
   "execution_count": null,
   "metadata": {
    "collapsed": true
   },
   "outputs": [],
   "source": []
  }
 ],
 "metadata": {
  "kernelspec": {
   "display_name": "Python 3",
   "language": "python",
   "name": "python3"
  },
  "language_info": {
   "codemirror_mode": {
    "name": "ipython",
    "version": 3
   },
   "file_extension": ".py",
   "mimetype": "text/x-python",
   "name": "python",
   "nbconvert_exporter": "python",
   "pygments_lexer": "ipython3",
   "version": "3.6.0"
  }
 },
 "nbformat": 4,
 "nbformat_minor": 2
}
